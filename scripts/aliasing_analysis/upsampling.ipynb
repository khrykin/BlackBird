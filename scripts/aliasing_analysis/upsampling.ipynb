{
 "cells": [
  {
   "cell_type": "code",
   "execution_count": null,
   "metadata": {},
   "outputs": [],
   "source": [
    "import numpy as np\n",
    "from plotly import graph_objs as go\n",
    "\n",
    "import dsplib\n",
    "import plotlib"
   ]
  },
  {
   "cell_type": "code",
   "execution_count": null,
   "metadata": {},
   "outputs": [],
   "source": [
    "import importlib\n",
    "importlib.reload(dsplib)\n",
    "importlib.reload(plotlib)"
   ]
  },
  {
   "cell_type": "code",
   "execution_count": null,
   "metadata": {},
   "outputs": [],
   "source": [
    "fs_hz = 48e3\n",
    "signal_duration_sec = 0.2\n",
    "smp_num = dsplib.calc_smp_num(signal_duration_sec, fs_hz)"
   ]
  },
  {
   "cell_type": "code",
   "execution_count": null,
   "metadata": {},
   "outputs": [],
   "source": [
    "S = dsplib.generate_delayed_sin_matrix(smp_num=smp_num, tone_freq_n=9100/fs_hz, mag=0.5, history_smp_num=3, noise_level=1e-4)\n",
    "sig = S[0,:]"
   ]
  },
  {
   "cell_type": "code",
   "execution_count": null,
   "metadata": {},
   "outputs": [],
   "source": [
    "@dsplib.resample(factor=32)\n",
    "def tanh_resample(x):\n",
    "    return np.tanh(x)"
   ]
  },
  {
   "cell_type": "code",
   "execution_count": null,
   "metadata": {},
   "outputs": [],
   "source": [
    "mag = 3\n",
    "t = dsplib.generate_time_signal(signal_duration_sec=signal_duration_sec, fs_hz=fs_hz)\n",
    "\n",
    "fig = go.Figure()\n",
    "freq_points_hz = np.arange(300, fs_hz/2, 200)\n",
    "\n",
    "labels = []\n",
    "for tone_freq_hz in freq_points_hz:\n",
    "    sig = mag * np.sin(2*np.pi * tone_freq_hz * t)\n",
    "    f, S_in = dsplib.calc_spectrum(sig, fs=fs_hz)\n",
    "    _, S_out = dsplib.calc_spectrum(np.tanh(sig), fs=fs_hz)\n",
    "\n",
    "    tanh_ups_dwn = tanh_resample(sig)\n",
    "    _, S_out_ups = dsplib.calc_spectrum(tanh_ups_dwn, fs=fs_hz)\n",
    "\n",
    "    fig.add_trace(go.Scatter(x=f, y=S_in, visible=False, name=\"input\"))\n",
    "    fig.add_trace(go.Scatter(x=f, y=S_out, visible=False, line=dict(width=2, dash='dash'), name=\"tanh\"))\n",
    "    fig.add_trace(go.Scatter(x=f, y=S_out_ups, visible=False, line=dict(width=2, dash='dot'), name=\"tanh ups\"))\n",
    "\n",
    "    labels.append(int(tone_freq_hz))\n",
    "\n",
    "fig = plotlib.apply_sliders(fig, lines_num=3, labels=labels, prefix=\"Frequency: \", suffix=\" Hz\")\n",
    "\n",
    "fig.update_layout(\n",
    "    title=f\"Signal spectrum before and after tanh\",\n",
    "    xaxis_title='Frequency, Hz',\n",
    "    yaxis_title='Spectral density'\n",
    ")\n",
    "\n",
    "fig.show()"
   ]
  }
 ],
 "metadata": {
  "kernelspec": {
   "display_name": "black-bird",
   "language": "python",
   "name": "python3"
  },
  "language_info": {
   "codemirror_mode": {
    "name": "ipython",
    "version": 3
   },
   "file_extension": ".py",
   "mimetype": "text/x-python",
   "name": "python",
   "nbconvert_exporter": "python",
   "pygments_lexer": "ipython3",
   "version": "3.11.8"
  }
 },
 "nbformat": 4,
 "nbformat_minor": 2
}
