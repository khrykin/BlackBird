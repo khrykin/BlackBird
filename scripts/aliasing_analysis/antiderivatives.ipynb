{
 "cells": [
  {
   "cell_type": "code",
   "execution_count": null,
   "metadata": {},
   "outputs": [],
   "source": [
    "import numpy as np\n",
    "from plotly import graph_objs as go\n",
    "\n",
    "import tanh_antiderivative\n",
    "import dsplib"
   ]
  },
  {
   "cell_type": "code",
   "execution_count": null,
   "metadata": {},
   "outputs": [],
   "source": [
    "import importlib\n",
    "importlib.reload(dsplib)"
   ]
  },
  {
   "cell_type": "code",
   "execution_count": null,
   "metadata": {},
   "outputs": [],
   "source": [
    "fs_hz = 48e3\n",
    "signal_duration_sec = 0.2\n",
    "smp_num = dsplib.calc_smp_num(signal_duration_sec, fs_hz)"
   ]
  },
  {
   "cell_type": "code",
   "execution_count": null,
   "metadata": {},
   "outputs": [],
   "source": [
    "S = dsplib.generate_delayed_sin_matrix(smp_num=smp_num, tone_freq_n=9100/fs_hz, mag=0.5, history_smp_num=3, noise_level=1e-4)"
   ]
  },
  {
   "cell_type": "code",
   "execution_count": null,
   "metadata": {},
   "outputs": [],
   "source": [
    "ad_1_sig = tanh_antiderivative.order1(S)\n",
    "ad_2_sig = tanh_antiderivative.order2(S)\n",
    "ad_3_sig = tanh_antiderivative.order3(S)\n",
    "\n",
    "f, S_in = dsplib.calc_spectrum(S[0,:], fs=fs_hz)\n",
    "_, S_tanh = dsplib.calc_spectrum(np.tanh(S[0,:]), fs=fs_hz)\n",
    "_, S_ad_1 = dsplib.calc_spectrum(ad_1_sig, fs=fs_hz)\n",
    "_, S_ad_2 = dsplib.calc_spectrum(ad_2_sig, fs=fs_hz)\n",
    "_, S_ad_3 = dsplib.calc_spectrum(ad_3_sig, fs=fs_hz)\n",
    "\n",
    "\n",
    "fig = go.Figure()\n",
    "fig.add_trace(go.Scatter(x=f, y=S_in, name=\"input\"))\n",
    "fig.add_trace(go.Scatter(x=f, y=S_tanh, line=dict(width=2, dash='dash'), name=\"tanh\"))\n",
    "fig.add_trace(go.Scatter(x=f, y=S_ad_1, line=dict(width=2, dash='dot'), name=\"ad_1\"))\n",
    "fig.add_trace(go.Scatter(x=f, y=S_ad_2, line=dict(width=1.5, dash='dot'), name=\"ad_2\"))\n",
    "fig.add_trace(go.Scatter(x=f, y=S_ad_3, line=dict(width=1, dash='dot'), name=\"ad_3\"))\n",
    "fig.update_layout(hovermode=\"x unified\")\n",
    "fig.show()"
   ]
  }
 ],
 "metadata": {
  "kernelspec": {
   "display_name": "black-bird",
   "language": "python",
   "name": "python3"
  },
  "language_info": {
   "codemirror_mode": {
    "name": "ipython",
    "version": 3
   },
   "file_extension": ".py",
   "mimetype": "text/x-python",
   "name": "python",
   "nbconvert_exporter": "python",
   "pygments_lexer": "ipython3",
   "version": "3.11.8"
  }
 },
 "nbformat": 4,
 "nbformat_minor": 2
}
