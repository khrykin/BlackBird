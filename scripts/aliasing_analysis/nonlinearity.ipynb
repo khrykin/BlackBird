{
 "cells": [
  {
   "cell_type": "code",
   "execution_count": null,
   "metadata": {},
   "outputs": [],
   "source": [
    "import numpy as np\n",
    "from plotly import graph_objs as go\n",
    "from scipy import fft"
   ]
  },
  {
   "cell_type": "code",
   "execution_count": null,
   "metadata": {},
   "outputs": [],
   "source": [
    "fs_hz = 48e3\n",
    "signal_duration_sec = 0.1\n",
    "t = np.arange(0, signal_duration_sec, 1/fs_hz)\n",
    "\n",
    "print(f\"Number of samples: {len(t)}\")"
   ]
  },
  {
   "cell_type": "code",
   "execution_count": null,
   "metadata": {},
   "outputs": [],
   "source": [
    "def calc_spectrum(sig, fs=fs_hz):\n",
    "    S = 20*np.log10(np.abs(fft.rfft(sig)))\n",
    "    f = fft.rfftfreq(len(sig), d=1/fs)\n",
    "\n",
    "    return f, S"
   ]
  },
  {
   "cell_type": "code",
   "execution_count": null,
   "metadata": {},
   "outputs": [],
   "source": [
    "def saturationFunc(sig):\n",
    "    return np.tanh(sig)\n",
    "\n",
    "x = np.linspace(-3, 3)\n",
    "fig = go.Figure()\n",
    "fig.add_trace(go.Scatter(x=x, y=saturationFunc(x), name='saturationFunc'))\n",
    "fig.show()"
   ]
  },
  {
   "cell_type": "code",
   "execution_count": null,
   "metadata": {},
   "outputs": [],
   "source": [
    "tone_freq_hz = 4.3e3\n",
    "mag = 0.1\n",
    "sig = mag * np.sin(2*np.pi * tone_freq_hz * t)\n",
    "\n",
    "f, S = calc_spectrum(sig)\n",
    "_, nlS = calc_spectrum(saturationFunc(sig))\n",
    "\n",
    "fig = go.Figure()\n",
    "fig.add_trace(go.Scatter(x=f, y=S, name='Before'))\n",
    "fig.add_trace(go.Scatter(x=f, y=nlS, line=dict(width=2, dash='dash'), name='After'))\n",
    "fig.update_layout(title='Nonlinearity impact',\n",
    "                  xaxis_title='Frequency, Hz',\n",
    "                  yaxis_title='Spectral density')\n",
    "fig.show()"
   ]
  },
  {
   "cell_type": "code",
   "execution_count": null,
   "metadata": {},
   "outputs": [],
   "source": [
    "mag = 0.1\n",
    "\n",
    "fig = go.Figure()\n",
    "freq_points_hz = np.arange(300, fs_hz/2, 200)\n",
    "for tone_freq_hz in freq_points_hz:\n",
    "    sig = mag * np.sin(2*np.pi * tone_freq_hz * t)\n",
    "    f, S = calc_spectrum(sig)\n",
    "    _, nlS = calc_spectrum(saturationFunc(sig))\n",
    "    \n",
    "    fig.add_trace(go.Scatter(x=f, y=S,\n",
    "            visible=False, line=dict(color='blue'),\n",
    "            name=\"Before\"))\n",
    "    \n",
    "    fig.add_trace(go.Scatter(x=f, y=nlS,\n",
    "            visible=False, line=dict(color='red', width=2, dash='dash'),\n",
    "            name=\"After\"))\n",
    "\n",
    "active_ind = 1\n",
    "fig.data[2*active_ind].visible = True\n",
    "fig.data[2*active_ind+1].visible = True\n",
    "\n",
    "steps = []\n",
    "for i in range(len(freq_points_hz)):\n",
    "    step = dict(\n",
    "        method=\"update\",\n",
    "        args=[{\"visible\": [False] * len(fig.data)},\n",
    "              {\"title\": f\"Frequency: {freq_points_hz[i]} Hz\"}],\n",
    "        label=str(int(freq_points_hz[i]))\n",
    "    )\n",
    "    step[\"args\"][0][\"visible\"][2*i] = True\n",
    "    step[\"args\"][0][\"visible\"][2*i+1] = True\n",
    "    steps.append(step)\n",
    "\n",
    "sliders = [dict(\n",
    "    active=active_ind,\n",
    "    currentvalue={\"prefix\": \"Frequency: \", \"suffix\": \" Hz\"},\n",
    "    pad={\"t\": 50},\n",
    "    steps=steps\n",
    ")]\n",
    "\n",
    "fig.update_layout(\n",
    "    sliders=sliders,\n",
    "    title=f\"Signal frequency: {freq_points_hz[active_ind]} Hz\"\n",
    ")\n",
    "\n",
    "fig.show()"
   ]
  },
  {
   "cell_type": "code",
   "execution_count": null,
   "metadata": {},
   "outputs": [],
   "source": []
  }
 ],
 "metadata": {
  "kernelspec": {
   "display_name": "black-bird",
   "language": "python",
   "name": "python3"
  },
  "language_info": {
   "codemirror_mode": {
    "name": "ipython",
    "version": 3
   },
   "file_extension": ".py",
   "mimetype": "text/x-python",
   "name": "python",
   "nbconvert_exporter": "python",
   "pygments_lexer": "ipython3",
   "version": "3.11.7"
  }
 },
 "nbformat": 4,
 "nbformat_minor": 2
}
