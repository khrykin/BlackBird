{
 "cells": [
  {
   "cell_type": "code",
   "execution_count": null,
   "metadata": {},
   "outputs": [],
   "source": [
    "import numpy as np\n",
    "from plotly import graph_objs as go\n",
    "\n",
    "import torch\n",
    "import torch.nn as nn\n",
    "import torch.optim as optim\n",
    "\n",
    "import dsplib\n",
    "import plotlib\n",
    "\n",
    "from models import LutWithMemory\n",
    "from training import Trainer"
   ]
  },
  {
   "cell_type": "code",
   "execution_count": null,
   "metadata": {},
   "outputs": [],
   "source": [
    "import importlib\n",
    "importlib.reload(dsplib)\n",
    "importlib.reload(plotlib)"
   ]
  },
  {
   "cell_type": "code",
   "execution_count": null,
   "metadata": {},
   "outputs": [],
   "source": [
    "fs_hz = 48e3\n",
    "signal_duration_sec = 1\n",
    "smp_num = dsplib.calc_smp_num(signal_duration_sec, fs_hz)"
   ]
  },
  {
   "cell_type": "code",
   "execution_count": null,
   "metadata": {},
   "outputs": [],
   "source": [
    "min_x = -5\n",
    "max_x = 5\n",
    "\n",
    "@dsplib.resample(factor=32)\n",
    "def tanh_resample(x):\n",
    "    return np.tanh(x)"
   ]
  },
  {
   "cell_type": "code",
   "execution_count": null,
   "metadata": {},
   "outputs": [],
   "source": [
    "S = dsplib.generate_delayed_sin_matrix(smp_num=smp_num, tone_freq_n=9100/fs_hz, mag=0.5, history_smp_num=3, noise_level=1e-4)\n",
    "\n",
    "ref_sig = tanh_resample(S[0,:])"
   ]
  },
  {
   "cell_type": "code",
   "execution_count": null,
   "metadata": {},
   "outputs": [],
   "source": [
    "# Initialize model, loss, and optimizer\n",
    "memory_depth = 3\n",
    "model = LutWithMemory(input_range=(min_x, max_x), bins_num=64, memory_depth=memory_depth)\n",
    "optimizer = optim.Adam(model.parameters(), lr=0.01)\n",
    "\n",
    "# Prepare data\n",
    "X = torch.from_numpy(S.copy().astype(np.float32))\n",
    "y = torch.from_numpy(ref_sig.astype(np.float32))\n",
    "# Train\n",
    "trainer = Trainer(model, optimizer=optimizer, criterion=nn.MSELoss())\n",
    "trainer.train(X, y, num_epochs=int(2e4))\n",
    "\n",
    "fig = go.Figure()\n",
    "fig.add_trace(go.Scatter(y=np.log10(trainer.loss_history)))\n",
    "fig.show()\n"
   ]
  },
  {
   "cell_type": "code",
   "execution_count": null,
   "metadata": {},
   "outputs": [],
   "source": [
    "sig = S[0,:]\n",
    "f, S_ref = dsplib.calc_spectrum(ref_sig, fs=fs_hz)\n",
    "_, S_out = dsplib.calc_spectrum(np.tanh(sig), fs=fs_hz)\n",
    "_, S_model = dsplib.calc_spectrum(model(X).detach().squeeze().numpy(), fs=fs_hz)\n",
    "\n",
    "fig = go.Figure()\n",
    "fig.add_trace(go.Scatter(x=f, y=S_ref[:-1], name=\"ref\"))\n",
    "fig.add_trace(go.Scatter(x=f, y=S_out, line=dict(width=2, dash='dash'), name=\"vanilla\"))\n",
    "fig.add_trace(go.Scatter(x=f, y=S_model, line=dict(width=2, dash='dashdot'), name=\"model\"))\n",
    "\n",
    "fig.update_layout(\n",
    "    title=f\"Signal spectrum before and after tanh\",\n",
    "    xaxis_title='Frequency, Hz',\n",
    "    yaxis_title='Spectral density'\n",
    ")\n",
    "\n",
    "fig.show()"
   ]
  }
 ],
 "metadata": {
  "kernelspec": {
   "display_name": "black-bird",
   "language": "python",
   "name": "python3"
  },
  "language_info": {
   "codemirror_mode": {
    "name": "ipython",
    "version": 3
   },
   "file_extension": ".py",
   "mimetype": "text/x-python",
   "name": "python",
   "nbconvert_exporter": "python",
   "pygments_lexer": "ipython3",
   "version": "3.11.8"
  }
 },
 "nbformat": 4,
 "nbformat_minor": 2
}
